{
 "cells": [
  {
   "cell_type": "markdown",
   "id": "ed2584f3-5bd8-4ef4-9ebc-0dc19201258a",
   "metadata": {},
   "source": [
    "#  Model Performance Evaluation and Analysis"
   ]
  },
  {
   "cell_type": "markdown",
   "id": "48666c17-a55a-4a85-b92e-c8b1548959da",
   "metadata": {},
   "source": [
    "## Load and Prepare the Dataset"
   ]
  },
  {
   "cell_type": "code",
   "execution_count": 37,
   "id": "62b01200-23f2-492c-b752-f71c3603ec7b",
   "metadata": {},
   "outputs": [],
   "source": [
    "# Load your dataset\n",
    "import pandas as pd\n",
    "\n",
    "# Replace the path with your actual file path\n",
    "df = pd.read_csv(r\"C:\\Users\\akash\\Desktop\\online_fraud_internship\\downloaded_cleaned_dataset.csv\")\n",
    "\n",
    "\n",
    "# Define the feature set (X) and the target variable (y)\n",
    "X = df.drop(columns=['isFraud'])  # Dropping the target column from the feature set\n",
    "y = df['isFraud']  # Target variable\n",
    "\n",
    "# Split the data into training (50%), validation (25%), and testing (25%) sets\n",
    "X_train_val, X_test, y_train_val, y_test = train_test_split(X, y, test_size=0.25, random_state=42)\n",
    "\n",
    "# Further split the combined training and validation data into training (50%) and validation (50%) sets\n",
    "X_train, X_val, y_train, y_val = train_test_split(X_train_val, y_train_val, test_size=0.5, random_state=42)\n"
   ]
  },
  {
   "cell_type": "markdown",
   "id": "4aa25ce3-a32a-4554-b557-e9059638f276",
   "metadata": {},
   "source": [
    "## Evaluate Model Performance on the Test Dataset"
   ]
  },
  {
   "cell_type": "code",
   "execution_count": 38,
   "id": "ba825b46-e2b1-49ee-bb0c-de1a961f3d13",
   "metadata": {},
   "outputs": [
    {
     "name": "stdout",
     "output_type": "stream",
     "text": [
      "Accuracy on test set: 0.99\n",
      "Precision on test set: 0.98\n",
      "Recall on test set: 1.00\n",
      "F1 Score on test set: 0.99\n",
      "\n",
      "Classification Report:\n",
      "              precision    recall  f1-score   support\n",
      "\n",
      "           0       1.00      0.98      0.99       654\n",
      "           1       0.98      1.00      0.99       596\n",
      "\n",
      "    accuracy                           0.99      1250\n",
      "   macro avg       0.99      0.99      0.99      1250\n",
      "weighted avg       0.99      0.99      0.99      1250\n",
      "\n",
      "\n",
      "Confusion Matrix:\n",
      "[[641  13]\n",
      " [  0 596]]\n"
     ]
    }
   ],
   "source": [
    "# Predict on the test set\n",
    "y_pred_test = rf_model.predict(X_test)\n",
    "\n",
    "# Calculate metrics\n",
    "accuracy = accuracy_score(y_test, y_pred_test)\n",
    "precision = precision_score(y_test, y_pred_test)\n",
    "recall = recall_score(y_test, y_pred_test)\n",
    "f1 = f1_score(y_test, y_pred_test)\n",
    "\n",
    "print(f'Accuracy on test set: {accuracy:.2f}')\n",
    "print(f'Precision on test set: {precision:.2f}')\n",
    "print(f'Recall on test set: {recall:.2f}')\n",
    "print(f'F1 Score on test set: {f1:.2f}')\n",
    "\n",
    "# Print classification report\n",
    "print(\"\\nClassification Report:\")\n",
    "print(classification_report(y_test, y_pred_test))\n",
    "\n",
    "# Confusion Matrix\n",
    "conf_matrix = confusion_matrix(y_test, y_pred_test)\n",
    "print(\"\\nConfusion Matrix:\")\n",
    "print(conf_matrix)\n"
   ]
  },
  {
   "cell_type": "markdown",
   "id": "86aea2d4-dd08-4a7b-bbfc-8ff87b6ee621",
   "metadata": {},
   "source": [
    "## Visualize Performance Metrics"
   ]
  },
  {
   "cell_type": "code",
   "execution_count": 39,
   "id": "091aa3de-d422-4a2d-ac7c-3614e88b62f9",
   "metadata": {},
   "outputs": [
    {
     "data": {
      "image/png": "[encoded data removed]",
      "text/plain": [
       "<Figure size 800x600 with 2 Axes>"
      ]
     },
     "metadata": {},
     "output_type": "display_data"
    }
   ],
   "source": [
    "import matplotlib.pyplot as plt\n",
    "import seaborn as sns\n",
    "\n",
    "# Visualize confusion matrix\n",
    "plt.figure(figsize=(8, 6))\n",
    "sns.heatmap(conf_matrix, annot=True, fmt='d', cmap='Blues', xticklabels=['Not Fraud', 'Fraud'], yticklabels=['Not Fraud', 'Fraud'])\n",
    "plt.xlabel('Predicted Label')\n",
    "plt.ylabel('True Label')\n",
    "plt.title('Confusion Matrix')\n",
    "plt.show()\n"
   ]
  },
  {
   "cell_type": "markdown",
   "id": "ac06a028-356e-48eb-9a2f-bc07e8412049",
   "metadata": {},
   "source": [
    "## Conduct Error Analysis"
   ]
  },
  {
   "cell_type": "code",
   "execution_count": 40,
   "id": "dc3aa10a-a49a-4869-ad71-eb1b8a8892b7",
   "metadata": {},
   "outputs": [
    {
     "name": "stdout",
     "output_type": "stream",
     "text": [
      "\n",
      "Misclassified Samples:\n",
      "      type     amount  oldbalanceOrg  newbalanceOrig\n",
      "1295     4  270772.03       159605.0             0.0\n",
      "1590     1   21728.38            0.0             0.0\n",
      "969      1   32330.31        30071.0             0.0\n",
      "2217     1  190708.08       159006.0             0.0\n",
      "2107     1  317038.97       268907.0             0.0\n",
      "\n",
      "Index: 93\n",
      "True Label: 0\n",
      "Predicted Label: 1\n",
      "Features: type                   4.00\n",
      "amount            270772.03\n",
      "oldbalanceOrg     159605.00\n",
      "newbalanceOrig         0.00\n",
      "Name: 1295, dtype: float64\n",
      "\n",
      "Index: 167\n",
      "True Label: 0\n",
      "Predicted Label: 1\n",
      "Features: type                  1.00\n",
      "amount            21728.38\n",
      "oldbalanceOrg         0.00\n",
      "newbalanceOrig        0.00\n",
      "Name: 1590, dtype: float64\n",
      "\n",
      "Index: 240\n",
      "True Label: 0\n",
      "Predicted Label: 1\n",
      "Features: type                  1.00\n",
      "amount            32330.31\n",
      "oldbalanceOrg     30071.00\n",
      "newbalanceOrig        0.00\n",
      "Name: 969, dtype: float64\n",
      "\n",
      "Index: 262\n",
      "True Label: 0\n",
      "Predicted Label: 1\n",
      "Features: type                   1.00\n",
      "amount            190708.08\n",
      "oldbalanceOrg     159006.00\n",
      "newbalanceOrig         0.00\n",
      "Name: 2217, dtype: float64\n",
      "\n",
      "Index: 322\n",
      "True Label: 0\n",
      "Predicted Label: 1\n",
      "Features: type                   1.00\n",
      "amount            317038.97\n",
      "oldbalanceOrg     268907.00\n",
      "newbalanceOrig         0.00\n",
      "Name: 2107, dtype: float64\n"
     ]
    }
   ],
   "source": [
    "import numpy as np\n",
    "\n",
    "# Get indices of misclassified samples\n",
    "misclassified_indices = np.where(y_test != y_pred_test)[0]\n",
    "\n",
    "# Extract misclassified samples\n",
    "misclassified_samples = X_test.iloc[misclassified_indices]\n",
    "\n",
    "# Print some misclassified samples\n",
    "print(\"\\nMisclassified Samples:\")\n",
    "print(misclassified_samples.head())\n",
    "\n",
    "# Analyze the first few misclassified samples\n",
    "for index in misclassified_indices[:5]:  # Print the first 5 misclassified samples\n",
    "    print(f\"\\nIndex: {index}\")\n",
    "    print(f\"True Label: {y_test.iloc[index]}\")\n",
    "    print(f\"Predicted Label: {y_pred_test[index]}\")\n",
    "    print(f\"Features: {X_test.iloc[index]}\")\n"
   ]
  }
 ],
 "metadata": {
  "kernelspec": {
   "display_name": "Python 3 (ipykernel)",
   "language": "python",
   "name": "python3"
  },
  "language_info": {
   "codemirror_mode": {
    "name": "ipython",
    "version": 3
   },
   "file_extension": ".py",
   "mimetype": "text/x-python",
   "name": "python",
   "nbconvert_exporter": "python",
   "pygments_lexer": "ipython3",
   "version": "3.10.0"
  }
 },
 "nbformat": 4,
 "nbformat_minor": 5
}
