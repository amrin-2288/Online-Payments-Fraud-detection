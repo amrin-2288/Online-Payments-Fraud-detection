{
 "cells": [
  {
   "cell_type": "markdown",
   "id": "4e1bd5ef-be18-4bf9-bd23-ac096574f49a",
   "metadata": {},
   "source": [
    "# import necessary libraries \n"
   ]
  },
  {
   "cell_type": "code",
   "execution_count": 1,
   "id": "31946ee2-e7c3-4ae9-bbcd-17ecf65e5aca",
   "metadata": {},
   "outputs": [],
   "source": [
    "import pandas as pd"
   ]
  },
  {
   "cell_type": "code",
   "execution_count": 2,
   "id": "3ce882db-cf32-459f-8bbd-99786d6c56af",
   "metadata": {},
   "outputs": [],
   "source": [
    "df = pd.read_csv(r\"C:\\Users\\akash\\Desktop\\fraudTest.csv\")"
   ]
  },
  {
   "cell_type": "code",
   "execution_count": 3,
   "id": "a431420b-bafa-4177-85bd-f7acde00eedf",
   "metadata": {
    "scrolled": true
   },
   "outputs": [
    {
     "name": "stdout",
     "output_type": "stream",
     "text": [
      "   Unnamed: 0 trans_date_trans_time            cc_num  \\\n",
      "0           0   2020-06-21 12:14:25  2291163933867244   \n",
      "1           1   2020-06-21 12:14:33  3573030041201292   \n",
      "2           2   2020-06-21 12:14:53  3598215285024754   \n",
      "3           3   2020-06-21 12:15:15  3591919803438423   \n",
      "4           4   2020-06-21 12:15:17  3526826139003047   \n",
      "\n",
      "                               merchant        category    amt   first  \\\n",
      "0                 fraud_Kirlin and Sons   personal_care   2.86    Jeff   \n",
      "1                  fraud_Sporer-Keebler   personal_care  29.84  Joanne   \n",
      "2  fraud_Swaniawski, Nitzsche and Welch  health_fitness  41.28  Ashley   \n",
      "3                     fraud_Haley Group        misc_pos  60.05   Brian   \n",
      "4                 fraud_Johnston-Casper          travel   3.19  Nathan   \n",
      "\n",
      "       last gender                       street  ...      lat      long  \\\n",
      "0   Elliott      M            351 Darlene Green  ...  33.9659  -80.9355   \n",
      "1  Williams      F             3638 Marsh Union  ...  40.3207 -110.4360   \n",
      "2     Lopez      F         9333 Valentine Point  ...  40.6729  -73.5365   \n",
      "3  Williams      M  32941 Krystal Mill Apt. 552  ...  28.5697  -80.8191   \n",
      "4    Massey      M     5783 Evan Roads Apt. 465  ...  44.2529  -85.0170   \n",
      "\n",
      "   city_pop                     job         dob  \\\n",
      "0    333497     Mechanical engineer  1968-03-19   \n",
      "1       302  Sales professional, IT  1990-01-17   \n",
      "2     34496       Librarian, public  1970-10-21   \n",
      "3     54767            Set designer  1987-07-25   \n",
      "4      1126      Furniture designer  1955-07-06   \n",
      "\n",
      "                          trans_num   unix_time  merch_lat  merch_long  \\\n",
      "0  2da90c7d74bd46a0caf3777415b3ebd3  1371816865  33.986391  -81.200714   \n",
      "1  324cc204407e99f51b0d6ca0055005e7  1371816873  39.450498 -109.960431   \n",
      "2  c81755dbbbea9d5c77f094348a7579be  1371816893  40.495810  -74.196111   \n",
      "3  2159175b9efe66dc301f149d3d5abf8c  1371816915  28.812398  -80.883061   \n",
      "4  57ff021bd3f328f8738bb535c302a31b  1371816917  44.959148  -85.884734   \n",
      "\n",
      "   is_fraud  \n",
      "0         0  \n",
      "1         0  \n",
      "2         0  \n",
      "3         0  \n",
      "4         0  \n",
      "\n",
      "[5 rows x 23 columns]\n"
     ]
    }
   ],
   "source": [
    "print(df.head())"
   ]
  },
  {
   "cell_type": "markdown",
   "id": "333de58d-5d7a-45f7-bd2c-917d74317e79",
   "metadata": {},
   "source": [
    "# Data Quality Check\n",
    "### Missing Values"
   ]
  },
  {
   "cell_type": "code",
   "execution_count": 4,
   "id": "8fe534dd-f5c0-4025-8fce-45ead624dd90",
   "metadata": {},
   "outputs": [
    {
     "name": "stdout",
     "output_type": "stream",
     "text": [
      "\n",
      "Missing Values:\n",
      "Unnamed: 0               0\n",
      "trans_date_trans_time    0\n",
      "cc_num                   0\n",
      "merchant                 0\n",
      "category                 0\n",
      "amt                      0\n",
      "first                    0\n",
      "last                     0\n",
      "gender                   0\n",
      "street                   0\n",
      "city                     0\n",
      "state                    0\n",
      "zip                      0\n",
      "lat                      0\n",
      "long                     0\n",
      "city_pop                 0\n",
      "job                      0\n",
      "dob                      0\n",
      "trans_num                0\n",
      "unix_time                0\n",
      "merch_lat                0\n",
      "merch_long               0\n",
      "is_fraud                 0\n",
      "dtype: int64\n"
     ]
    }
   ],
   "source": [
    "print(\"\\nMissing Values:\")\n",
    "print(df.isnull().sum())"
   ]
  },
  {
   "cell_type": "markdown",
   "id": "9dc89623-ccf3-48c1-9f93-46db774b4355",
   "metadata": {},
   "source": [
    "# Data Exploration"
   ]
  },
  {
   "cell_type": "markdown",
   "id": "fbaf1bf7-ba34-4b74-bbe6-ef7e16e1ada8",
   "metadata": {},
   "source": [
    "### Identify Categorical Columns"
   ]
  },
  {
   "cell_type": "code",
   "execution_count": 6,
   "id": "37cff21d-f7ff-4770-9748-b363d575e958",
   "metadata": {},
   "outputs": [
    {
     "name": "stdout",
     "output_type": "stream",
     "text": [
      "\n",
      "Categorical Columns:\n",
      "Index(['trans_date_trans_time', 'merchant', 'category', 'first', 'last',\n",
      "       'gender', 'street', 'city', 'state', 'job', 'dob', 'trans_num'],\n",
      "      dtype='object')\n"
     ]
    }
   ],
   "source": [
    "# Identify categorical columns\n",
    "categorical_columns = df.select_dtypes(include=['object']).columns\n",
    "print(\"\\nCategorical Columns:\")\n",
    "print(categorical_columns)\n"
   ]
  },
  {
   "cell_type": "markdown",
   "id": "43db64bd-0b67-48a3-811c-21a7b1110db5",
   "metadata": {},
   "source": [
    "# Data Cleaning\n",
    "### Identify Duplicate Rows"
   ]
  },
  {
   "cell_type": "code",
   "execution_count": 7,
   "id": "ef73158c-2b20-4a48-8baf-8b91fcde8bae",
   "metadata": {},
   "outputs": [
    {
     "name": "stdout",
     "output_type": "stream",
     "text": [
      "\n",
      "Duplicate Rows:\n",
      "Empty DataFrame\n",
      "Columns: [Unnamed: 0, trans_date_trans_time, cc_num, merchant, category, amt, first, last, gender, street, city, state, zip, lat, long, city_pop, job, dob, trans_num, unix_time, merch_lat, merch_long, is_fraud]\n",
      "Index: []\n",
      "\n",
      "[0 rows x 23 columns]\n"
     ]
    }
   ],
   "source": [
    "duplicate_rows=df[df.duplicated()]\n",
    "print(\"\\nDuplicate Rows:\")\n",
    "print(duplicate_rows)"
   ]
  },
  {
   "cell_type": "markdown",
   "id": "00a29fc9-eac9-4ca7-9741-dbf3297b527a",
   "metadata": {},
   "source": [
    "### Remove Duplicate Rows"
   ]
  },
  {
   "cell_type": "code",
   "execution_count": 9,
   "id": "846f8089-aa1e-4f17-8831-41c7b47605f4",
   "metadata": {},
   "outputs": [],
   "source": [
    "# Remove duplicate rows\n",
    "df.drop_duplicates(inplace=True)\n"
   ]
  },
  {
   "cell_type": "markdown",
   "id": "77655ac4-d16a-4c9f-b229-241223416a5d",
   "metadata": {},
   "source": [
    "### Detect Outliers Using Z-Score"
   ]
  },
  {
   "cell_type": "code",
   "execution_count": 10,
   "id": "9bac7935-5474-4486-b195-289945ce16d1",
   "metadata": {},
   "outputs": [
    {
     "name": "stdout",
     "output_type": "stream",
     "text": [
      "Requirement already satisfied: scipy in c:\\users\\akash\\appdata\\local\\programs\\python\\python310\\lib\\site-packages (1.13.1)\n",
      "Requirement already satisfied: numpy<2.3,>=1.22.4 in c:\\users\\akash\\appdata\\local\\programs\\python\\python310\\lib\\site-packages (from scipy) (1.26.4)\n",
      "Note: you may need to restart the kernel to use updated packages.\n"
     ]
    },
    {
     "name": "stderr",
     "output_type": "stream",
     "text": [
      "\n",
      "[notice] A new release of pip is available: 24.0 -> 24.1\n",
      "[notice] To update, run: python.exe -m pip install --upgrade pip\n"
     ]
    }
   ],
   "source": [
    "pip install scipy"
   ]
  },
  {
   "cell_type": "code",
   "execution_count": 11,
   "id": "1e259d0f-2caa-450d-a06e-a40e356542f6",
   "metadata": {},
   "outputs": [
    {
     "name": "stdout",
     "output_type": "stream",
     "text": [
      "Requirement already satisfied: numpy in c:\\users\\akash\\appdata\\local\\programs\\python\\python310\\lib\\site-packages (1.26.4)Note: you may need to restart the kernel to use updated packages.\n",
      "\n"
     ]
    },
    {
     "name": "stderr",
     "output_type": "stream",
     "text": [
      "\n",
      "[notice] A new release of pip is available: 24.0 -> 24.1\n",
      "[notice] To update, run: python.exe -m pip install --upgrade pip\n"
     ]
    }
   ],
   "source": [
    "pip install numpy"
   ]
  },
  {
   "cell_type": "code",
   "execution_count": 12,
   "id": "8958c157-1d0f-4dfc-a688-166ed8fc2235",
   "metadata": {
    "scrolled": true
   },
   "outputs": [
    {
     "name": "stdout",
     "output_type": "stream",
     "text": [
      "\n",
      "Outlier Rows:\n",
      "        Unnamed: 0 trans_date_trans_time               cc_num  \\\n",
      "16              16   2020-06-21 12:18:54  4906628655840914250   \n",
      "18              18   2020-06-21 12:19:56  4861310130652566408   \n",
      "21              21   2020-06-21 12:20:42  4560004149983868183   \n",
      "29              29   2020-06-21 12:24:16      180040027502291   \n",
      "41              41   2020-06-21 12:28:23         503874407318   \n",
      "...            ...                   ...                  ...   \n",
      "555649      555649   2020-12-31 23:33:17     3583635130604947   \n",
      "555664      555664   2020-12-31 23:38:34     2288813824604479   \n",
      "555666      555666   2020-12-31 23:39:06  4536996888716062123   \n",
      "555680      555680   2020-12-31 23:43:41      180040027502291   \n",
      "555711      555711   2020-12-31 23:57:56      341546199006537   \n",
      "\n",
      "                                    merchant       category    amt    first  \\\n",
      "16                        fraud_Hickle Group   shopping_pos   2.33  Charles   \n",
      "18                      fraud_Morissette LLC  entertainment  80.11   Ashley   \n",
      "21                      fraud_Gottlieb Group      kids_pets  37.95    Stacy   \n",
      "29                     fraud_Leffler-Goldner  personal_care  24.44     Mary   \n",
      "41      fraud_Moore, Williamson and Emmerich           home  47.81   Andrew   \n",
      "...                                      ...            ...    ...      ...   \n",
      "555649                     fraud_Kilback LLC    food_dining  43.47  Crystal   \n",
      "555664       fraud_Little, Gutmann and Lynch   shopping_net   6.05  Barbara   \n",
      "555666                         fraud_Kub PLC  personal_care  16.72   Nathan   \n",
      "555680                    fraud_Homenick LLC  personal_care  55.53     Mary   \n",
      "555711                  fraud_Schmidt-Larkin           home  12.68     Mark   \n",
      "\n",
      "            last gender                         street  ...      lat  \\\n",
      "16        Moreno      M  838 Franklin Prairie Apt. 902  ...  24.6557   \n",
      "18          Cruz      F   65417 Walsh Radial Suite 691  ...  30.2385   \n",
      "21      Villegas      F               20581 Pena Walks  ...  38.8881   \n",
      "29       Schmidt      F               022 Moore Island  ...  40.7699   \n",
      "41         Mcgee      M     4130 Tiffany Glen Apt. 562  ...  29.5894   \n",
      "...          ...    ...                            ...  ...      ...   \n",
      "555649    Gamble      F     899 Michele View Suite 960  ...  40.0369   \n",
      "555664    Norman      F          6278 Stephanie Unions  ...  40.8265   \n",
      "555666   Mendoza      M         767 Adam Mill Apt. 115  ...  35.9866   \n",
      "555680   Schmidt      F               022 Moore Island  ...  40.7699   \n",
      "555711     Brown      M                8580 Moore Cove  ...  64.7556   \n",
      "\n",
      "            long  city_pop                                                job  \\\n",
      "16      -81.3824     32891                                       Town planner   \n",
      "18      -90.8435     10076                           Surveyor, rural practice   \n",
      "21     -104.6556    525713                 Museum/gallery exhibitions officer   \n",
      "29      -73.9511   1577385                             Audiological scientist   \n",
      "41      -98.5201   1595797                                Exhibition designer   \n",
      "...          ...       ...                                                ...   \n",
      "555649  -75.0664   1526206                                Structural engineer   \n",
      "555664  -73.9383   1577385                                          Herbalist   \n",
      "555666 -106.0654     18408  Historic buildings inspector/conservation officer   \n",
      "555680  -73.9511   1577385                             Audiological scientist   \n",
      "555711 -165.6723       145                           Administrator, education   \n",
      "\n",
      "               dob                         trans_num   unix_time  merch_lat  \\\n",
      "16      1987-02-13  00da72495351ce6bd9ecb75d51cca89b  1371817134  24.306325   \n",
      "18      1977-12-16  71bb6ee81f9af4d2a38bf6af2b614708  1371817196  30.449990   \n",
      "21      1992-05-09  b14cd1ccf78a409c664bf071872a4384  1371817242  39.844711   \n",
      "29      1957-12-29  efbea5fb8c846843c13f224379ba249e  1371817456  40.951475   \n",
      "41      1975-12-28  4ffb7174155b877c4d18d1d86e71e813  1371817703  30.509950   \n",
      "...            ...                               ...         ...        ...   \n",
      "555649  1985-01-01  1755fb42fd2f4913f615dd508dd5f774  1388532797  40.226921   \n",
      "555664  1981-08-29  b7285a609fd67b76e0838f71593b8ff6  1388533114  41.174681   \n",
      "555666  1972-07-18  55b9e60e40414115fc70d3b6d5e8bf40  1388533146  35.935541   \n",
      "555680  1957-12-29  b6daca9f6df7447c7f9503a8a1361685  1388533421  41.111950   \n",
      "555711  1939-11-09  a8310343c189e4a5b6316050d2d6b014  1388534276  65.623593   \n",
      "\n",
      "        merch_long  is_fraud  \n",
      "16      -81.065169         0  \n",
      "18      -89.930996         0  \n",
      "21     -103.975632         0  \n",
      "29      -74.065226         0  \n",
      "41      -99.374201         0  \n",
      "...            ...       ...  \n",
      "555649  -75.796142         0  \n",
      "555664  -72.961188         0  \n",
      "555666 -107.052071         0  \n",
      "555680  -73.872571         0  \n",
      "555711 -165.186033         0  \n",
      "\n",
      "[56854 rows x 23 columns]\n"
     ]
    }
   ],
   "source": [
    "# Detect outliers using z-score\n",
    "import numpy as np\n",
    "from scipy import stats\n",
    "z_scores = stats.zscore(df.select_dtypes(include=['int64', 'float64']))\n",
    "abs_z_scores = np.abs(z_scores)\n",
    "outlier_rows = df[(abs_z_scores > 3).any(axis=1)]\n",
    "print(\"\\nOutlier Rows:\")\n",
    "print(outlier_rows)\n"
   ]
  },
  {
   "cell_type": "code",
   "execution_count": 13,
   "id": "6e88a328-f707-420f-ae10-4463175d3cad",
   "metadata": {},
   "outputs": [],
   "source": [
    "df.to_csv('VI_AMRIN_FATHIMA.csv',index=False)"
   ]
  },
  {
   "cell_type": "markdown",
   "id": "fbf48858-8430-4ec1-8898-9a31da387ae1",
   "metadata": {},
   "source": [
    "### Identify Categorical Columns"
   ]
  },
  {
   "cell_type": "code",
   "execution_count": 14,
   "id": "979e8e31-09ac-40fb-971f-24e64b43ac1a",
   "metadata": {},
   "outputs": [
    {
     "name": "stdout",
     "output_type": "stream",
     "text": [
      "\n",
      "Categorical Columns:\n",
      "Index(['trans_date_trans_time', 'merchant', 'category', 'first', 'last',\n",
      "       'gender', 'street', 'city', 'state', 'job', 'dob', 'trans_num'],\n",
      "      dtype='object')\n"
     ]
    }
   ],
   "source": [
    "# Identify categorical columns\n",
    "categorical_columns = df.select_dtypes(include=['object']).columns\n",
    "print(\"\\nCategorical Columns:\")\n",
    "print(categorical_columns)\n"
   ]
  },
  {
   "cell_type": "markdown",
   "id": "5859b222-119c-409e-b1f9-dea32c500a09",
   "metadata": {},
   "source": [
    "# Data Preprocessing"
   ]
  },
  {
   "cell_type": "code",
   "execution_count": 15,
   "id": "8014aa44-3b01-4777-8527-f90664bd79e4",
   "metadata": {},
   "outputs": [],
   "source": [
    "from sklearn.preprocessing import LabelEncoder"
   ]
  },
  {
   "cell_type": "code",
   "execution_count": 16,
   "id": "b612a1dc-c008-4b99-a1be-c01d197a76c4",
   "metadata": {},
   "outputs": [
    {
     "name": "stdout",
     "output_type": "stream",
     "text": [
      "Requirement already satisfied: scikit-learn in c:\\users\\akash\\appdata\\local\\programs\\python\\python310\\lib\\site-packages (1.5.0)\n",
      "Requirement already satisfied: numpy>=1.19.5 in c:\\users\\akash\\appdata\\local\\programs\\python\\python310\\lib\\site-packages (from scikit-learn) (1.26.4)\n",
      "Requirement already satisfied: scipy>=1.6.0 in c:\\users\\akash\\appdata\\local\\programs\\python\\python310\\lib\\site-packages (from scikit-learn) (1.13.1)\n",
      "Requirement already satisfied: joblib>=1.2.0 in c:\\users\\akash\\appdata\\local\\programs\\python\\python310\\lib\\site-packages (from scikit-learn) (1.4.2)\n",
      "Requirement already satisfied: threadpoolctl>=3.1.0 in c:\\users\\akash\\appdata\\local\\programs\\python\\python310\\lib\\site-packages (from scikit-learn) (3.5.0)\n",
      "Note: you may need to restart the kernel to use updated packages.\n"
     ]
    },
    {
     "name": "stderr",
     "output_type": "stream",
     "text": [
      "\n",
      "[notice] A new release of pip is available: 24.0 -> 24.1\n",
      "[notice] To update, run: python.exe -m pip install --upgrade pip\n"
     ]
    }
   ],
   "source": [
    "pip install scikit-learn"
   ]
  },
  {
   "cell_type": "code",
   "execution_count": 17,
   "id": "44e1f58a-a720-4052-b905-1d5b87e630c0",
   "metadata": {},
   "outputs": [],
   "source": [
    "from sklearn.preprocessing import LabelEncoder"
   ]
  },
  {
   "cell_type": "markdown",
   "id": "ee3c0fd2-f6cd-4958-919d-0b1ffe663402",
   "metadata": {},
   "source": [
    "### Label Encoding Categorical Columns"
   ]
  },
  {
   "cell_type": "code",
   "execution_count": 18,
   "id": "855b14b8-31fc-4c83-9d45-26b0f3a355fc",
   "metadata": {},
   "outputs": [
    {
     "name": "stdout",
     "output_type": "stream",
     "text": [
      "\n",
      "Encoded Dataset:\n",
      "   Unnamed: 0  trans_date_trans_time            cc_num  merchant  category  \\\n",
      "0           0                      0  2291163933867244       319        10   \n",
      "1           1                      1  3573030041201292       591        10   \n",
      "2           2                      2  3598215285024754       611         5   \n",
      "3           3                      3  3591919803438423       222         9   \n",
      "4           4                      4  3526826139003047       292        13   \n",
      "\n",
      "     amt  first  last  gender  street  ...      lat      long  city_pop  job  \\\n",
      "0   2.86    151   115       1     341  ...  33.9659  -80.9355    333497  275   \n",
      "1  29.84    163   457       0     354  ...  40.3207 -110.4360       302  392   \n",
      "2  41.28     24   249       0     865  ...  40.6729  -73.5365     34496  259   \n",
      "3  60.05     42   457       1     320  ...  28.5697  -80.8191     54767  407   \n",
      "4   3.19    247   261       1     548  ...  44.2529  -85.0170      1126  196   \n",
      "\n",
      "   dob  trans_num   unix_time  merch_lat  merch_long  is_fraud  \n",
      "0  376      98699  1371816865  33.986391  -81.200714         0  \n",
      "1  760     108785  1371816873  39.450498 -109.960431         0  \n",
      "2  421     433979  1371816893  40.495810  -74.196111         0  \n",
      "3  718      71993  1371816915  28.812398  -80.883061         0  \n",
      "4  177     190585  1371816917  44.959148  -85.884734         0  \n",
      "\n",
      "[5 rows x 23 columns]\n"
     ]
    }
   ],
   "source": [
    " # Instantiate LabelEncoder\n",
    "label_encoder = LabelEncoder()\n",
    "\n",
    "# Iterate through each categorical column and apply label encoding\n",
    "for column in categorical_columns:\n",
    "    df[column] = label_encoder.fit_transform(df[column])\n",
    "\n",
    "# Display the encoded dataset\n",
    "print(\"\\nEncoded Dataset:\")\n",
    "print(df.head())"
   ]
  },
  {
   "cell_type": "code",
   "execution_count": 19,
   "id": "024a9dd8-4e2f-493a-8acd-17b1a2a356cd",
   "metadata": {},
   "outputs": [
    {
     "name": "stdout",
     "output_type": "stream",
     "text": [
      "\n",
      "Numerical Columns:\n",
      "Index(['Unnamed: 0', 'cc_num', 'amt', 'zip', 'lat', 'long', 'city_pop',\n",
      "       'unix_time', 'merch_lat', 'merch_long', 'is_fraud'],\n",
      "      dtype='object')\n"
     ]
    }
   ],
   "source": [
    "# Identify numerical columns\n",
    "numerical_columns = df.select_dtypes(include=['int64', 'float64']).columns\n",
    "print(\"\\nNumerical Columns:\")\n",
    "print(numerical_columns)"
   ]
  },
  {
   "cell_type": "markdown",
   "id": "9f7aa7d1-bc02-45b1-a8ff-f1151a0a80b8",
   "metadata": {},
   "source": [
    "### Normalizing Numerical Features"
   ]
  },
  {
   "cell_type": "code",
   "execution_count": 20,
   "id": "bcb7682d-2382-4b80-879f-3d171795ced9",
   "metadata": {
    "scrolled": true
   },
   "outputs": [
    {
     "name": "stdout",
     "output_type": "stream",
     "text": [
      "\n",
      "Normalized Dataset:\n",
      "   Unnamed: 0  trans_date_trans_time    cc_num  merchant  category       amt  \\\n",
      "0   -1.732048                      0 -0.317252       319        10 -0.424463   \n",
      "1   -1.732041                      1 -0.316273       591        10 -0.252337   \n",
      "2   -1.732035                      2 -0.316254       611         5 -0.179353   \n",
      "3   -1.732029                      3 -0.316259       222         9 -0.059605   \n",
      "4   -1.732023                      4 -0.316308       292        13 -0.422358   \n",
      "\n",
      "   first  last  gender  street  ...       lat      long  city_pop  job  dob  \\\n",
      "0    151   115       1     341  ... -0.904377  0.677451  0.816521  275  376   \n",
      "1    163   457       0     354  ...  0.351182 -1.472454 -0.292685  392  760   \n",
      "2     24   249       0     865  ...  0.420768  1.216667 -0.178853  259  421   \n",
      "3     42   457       1     320  ... -1.970539  0.685934 -0.111371  407  718   \n",
      "4    247   261       1     548  ...  1.128092  0.380004 -0.289942  196  177   \n",
      "\n",
      "   trans_num  unix_time  merch_lat  merch_long  is_fraud  \n",
      "0      98699  -1.703871  -0.894145    0.657586 -0.062248  \n",
      "1     108785  -1.703869   0.178126   -1.436610 -0.062248  \n",
      "2     433979  -1.703865   0.383257    1.167640 -0.062248  \n",
      "3      71993  -1.703861  -1.909485    0.680717 -0.062248  \n",
      "4     190585  -1.703861   1.259139    0.316510 -0.062248  \n",
      "\n",
      "[5 rows x 23 columns]\n"
     ]
    }
   ],
   "source": [
    "from sklearn.preprocessing import StandardScaler\n",
    "\n",
    "# Instantiate StandardScaler\n",
    "scaler = StandardScaler()\n",
    "\n",
    "# Apply normalization to numerical features\n",
    "df[numerical_columns] = scaler.fit_transform(df[numerical_columns])\n",
    "\n",
    "# Display the normalized dataset\n",
    "print(\"\\nNormalized Dataset:\")\n",
    "print(df.head())"
   ]
  },
  {
   "cell_type": "code",
   "execution_count": 21,
   "id": "0e7a901e-68de-432c-807c-9be57202e46c",
   "metadata": {},
   "outputs": [],
   "source": [
    "df.to_csv('V_I_AMRIN_FATHIMA.csv',index=False)"
   ]
  },
  {
   "cell_type": "markdown",
   "id": "b23a2415-da07-44fb-8d4f-bd8413c034e4",
   "metadata": {},
   "source": [
    "# Develop a mechanism to Store & Retrieve the pre-processed data into AWS.\n"
   ]
  },
  {
   "cell_type": "code",
   "execution_count": 22,
   "id": "c932a629-db8d-4737-9132-d849ce5ab27e",
   "metadata": {},
   "outputs": [
    {
     "name": "stdout",
     "output_type": "stream",
     "text": [
      "Requirement already satisfied: boto3 in c:\\users\\akash\\appdata\\local\\programs\\python\\python310\\lib\\site-packages (1.34.119)\n",
      "Requirement already satisfied: botocore<1.35.0,>=1.34.119 in c:\\users\\akash\\appdata\\local\\programs\\python\\python310\\lib\\site-packages (from boto3) (1.34.119)\n",
      "Requirement already satisfied: jmespath<2.0.0,>=0.7.1 in c:\\users\\akash\\appdata\\local\\programs\\python\\python310\\lib\\site-packages (from boto3) (1.0.1)\n",
      "Requirement already satisfied: s3transfer<0.11.0,>=0.10.0 in c:\\users\\akash\\appdata\\local\\programs\\python\\python310\\lib\\site-packages (from boto3) (0.10.1)\n",
      "Requirement already satisfied: python-dateutil<3.0.0,>=2.1 in c:\\users\\akash\\appdata\\local\\programs\\python\\python310\\lib\\site-packages (from botocore<1.35.0,>=1.34.119->boto3) (2.9.0.post0)\n",
      "Requirement already satisfied: urllib3!=2.2.0,<3,>=1.25.4 in c:\\users\\akash\\appdata\\local\\programs\\python\\python310\\lib\\site-packages (from botocore<1.35.0,>=1.34.119->boto3) (2.2.1)\n",
      "Requirement already satisfied: six>=1.5 in c:\\users\\akash\\appdata\\local\\programs\\python\\python310\\lib\\site-packages (from python-dateutil<3.0.0,>=2.1->botocore<1.35.0,>=1.34.119->boto3) (1.16.0)\n",
      "Note: you may need to restart the kernel to use updated packages.\n"
     ]
    },
    {
     "name": "stderr",
     "output_type": "stream",
     "text": [
      "\n",
      "[notice] A new release of pip is available: 24.0 -> 24.1\n",
      "[notice] To update, run: python.exe -m pip install --upgrade pip\n"
     ]
    }
   ],
   "source": [
    " pip install boto3"
   ]
  },
  {
   "cell_type": "code",
   "execution_count": 23,
   "id": "bed20c78-eecd-472c-8158-a01d154ecd23",
   "metadata": {},
   "outputs": [],
   "source": [
    "import os  # Import the os module to interact with the operating system\n",
    "\n",
    "# Set AWS Access Key ID as an environment variable\n",
    "os.environ['AWS_ACCESS_KEY_ID'] = ''  # Replace with your actual AWS Access Key ID\n",
    "\n",
    "# Set AWS Secret Access Key as an environment variable\n",
    "os.environ['AWS_SECRET_ACCESS_KEY'] = ''  # Replace with your actual AWS Secret Access Key\n",
    "\n",
    "# Set AWS Region as an environment variable\n",
    "os.environ['AWS_DEFAULT_REGION'] = ''  # Replace with your actual AWS Region (e.g., 'us-west-2')\n"
   ]
  },
  {
   "cell_type": "code",
   "execution_count": 24,
   "id": "4f621806-f831-4af1-922b-277dd216e0c8",
   "metadata": {},
   "outputs": [],
   "source": [
    "# Define the S3 bucket name\n",
    "bucket_name = 'online-fraud-detection-internship'  # Replace with your actual S3 bucket name\n"
   ]
  },
  {
   "cell_type": "code",
   "execution_count": 25,
   "id": "1293f887-561f-42cd-80f2-9c1ca67607a4",
   "metadata": {},
   "outputs": [],
   "source": [
    "# Define the local file path of the preprocessed dataset\n",
    "local_file_path = r\"C:\\Users\\akash\\Downloads\\online-fraud-training-dataset.csv\"  # Replace with your actual local file path\n"
   ]
  },
  {
   "cell_type": "code",
   "execution_count": 26,
   "id": "973c319d-50e5-4b1f-81ef-74d78c6ce42b",
   "metadata": {},
   "outputs": [],
   "source": [
    "# Define the key (filename) under which to store the file in S3\n",
    "s3_file_key = 'dataset_file.csv'  # Replace with your desired S3 file key\n"
   ]
  },
  {
   "cell_type": "code",
   "execution_count": 27,
   "id": "a24c2902-5804-4c46-b99e-7b5958eb0d2f",
   "metadata": {},
   "outputs": [],
   "source": [
    "import boto3  # Import the Boto3 library\n",
    "\n",
    "# Create an S3 client\n",
    "s3 = boto3.client('s3')\n"
   ]
  },
  {
   "cell_type": "markdown",
   "id": "f172d410-cebe-4ea6-971a-b31cf5c3e9c2",
   "metadata": {},
   "source": [
    "### Uploading the file in S3 bucket"
   ]
  },
  {
   "cell_type": "code",
   "execution_count": 28,
   "id": "3f390df2-e6d1-43ac-8bd3-73c12ca8d38c",
   "metadata": {},
   "outputs": [
    {
     "name": "stdout",
     "output_type": "stream",
     "text": [
      "File C:\\Users\\akash\\Downloads\\online-fraud-training-dataset.csv uploaded to online-fraud-detection-internship/dataset_file.csv\n"
     ]
    }
   ],
   "source": [
    "# Upload the file to S3\n",
    "s3.upload_file(local_file_path, bucket_name, s3_file_key)\n",
    "print(f\"File {local_file_path} uploaded to {bucket_name}/{s3_file_key}\")\n"
   ]
  },
  {
   "cell_type": "markdown",
   "id": "d0d1f30f-102d-4024-9f47-82acc7624326",
   "metadata": {},
   "source": [
    "### Downloading file from S3 bucket"
   ]
  },
  {
   "cell_type": "code",
   "execution_count": 29,
   "id": "7cbad815-20a2-4c72-a6b7-61c1b064f2c7",
   "metadata": {},
   "outputs": [],
   "source": [
    "\n",
    "# Define the directory where you want to save the file\n",
    "directory = r'C:\\Users\\akash\\Desktop\\online_fraud_internship'\n",
    "\n",
    "# Specify the file name\n",
    "file_name = 'downloaded_cleaned_dataset.csv'\n",
    "\n",
    "# Combine directory and file name to create the complete file path\n",
    "downloaded_file_path = os.path.join(directory, file_name)\n"
   ]
  },
  {
   "cell_type": "code",
   "execution_count": 30,
   "id": "e78c7254-bf14-4174-ae3a-b0cc1b0031e8",
   "metadata": {},
   "outputs": [
    {
     "name": "stdout",
     "output_type": "stream",
     "text": [
      "File dataset_file.csv downloaded from online-fraud-detection-internship to C:\\Users\\akash\\Desktop\\online_fraud_internship\\downloaded_cleaned_dataset.csv\n"
     ]
    }
   ],
   "source": [
    "# Download the file from S3\n",
    "s3.download_file(bucket_name, s3_file_key, downloaded_file_path)\n",
    "print(f\"File {s3_file_key} downloaded from {bucket_name} to {downloaded_file_path}\")\n"
   ]
  },
  {
   "cell_type": "code",
   "execution_count": null,
   "id": "a4f37c80-6560-4ef8-93be-b553df45d9d5",
   "metadata": {},
   "outputs": [],
   "source": []
  }
 ],
 "metadata": {
  "kernelspec": {
   "display_name": "Python 3 (ipykernel)",
   "language": "python",
   "name": "python3"
  },
  "language_info": {
   "codemirror_mode": {
    "name": "ipython",
    "version": 3
   },
   "file_extension": ".py",
   "mimetype": "text/x-python",
   "name": "python",
   "nbconvert_exporter": "python",
   "pygments_lexer": "ipython3",
   "version": "3.10.0"
  }
 },
 "nbformat": 4,
 "nbformat_minor": 5
}
