{
 "cells": [
  {
   "cell_type": "markdown",
   "id": "93cee3ca-a424-41a6-afef-c570f16233f2",
   "metadata": {},
   "source": [
    "# Making predictions using saved model"
   ]
  },
  {
   "cell_type": "code",
   "execution_count": 2,
   "id": "718e7ac1-09ea-43d7-9012-d790d7e19a8f",
   "metadata": {},
   "outputs": [],
   "source": [
    "\n",
    "import joblib\n",
    "\n",
    "import pandas as pd\n",
    "import numpy as np\n"
   ]
  },
  {
   "cell_type": "markdown",
   "id": "d8b87554-70b2-4e70-9e02-11cf74796b61",
   "metadata": {},
   "source": [
    "## Load the saved RandomForest model"
   ]
  },
  {
   "cell_type": "code",
   "execution_count": 3,
   "id": "c8c01527-9f35-431a-9175-8c97d74c7ebb",
   "metadata": {},
   "outputs": [],
   "source": [
    "model_file_path = r\"C:\\Users\\akash\\Desktop\\ONLINEAPP\\random_forest_model.joblib\"\n",
    "rf_model = joblib.load(model_file_path)"
   ]
  },
  {
   "cell_type": "markdown",
   "id": "bec90fc8-3368-45af-8d27-529207c2c079",
   "metadata": {},
   "source": [
    "## Define a function to make predictions"
   ]
  },
  {
   "cell_type": "code",
   "execution_count": 4,
   "id": "96ec1bef-88dd-4998-b953-dde1a8cbdad7",
   "metadata": {},
   "outputs": [],
   "source": [
    "import pandas as pd\n",
    "\n",
    "# Define a function to make predictions based on input data\n",
    "def predict_fraud(model, input_data):\n",
    "    # Convert input data to DataFrame\n",
    "    input_df = pd.DataFrame([input_data], columns=['type', 'amount', 'oldbalanceOrg', 'newbalanceOrig'])\n",
    "    \n",
    "    # Make prediction\n",
    "    prediction = model.predict(input_df)\n",
    "    \n",
    "    return prediction[0]\n"
   ]
  },
  {
   "cell_type": "markdown",
   "id": "ec9f33ad-0e48-47b0-83f1-54957705b3db",
   "metadata": {},
   "source": [
    "# Function to collect user input"
   ]
  },
  {
   "cell_type": "code",
   "execution_count": null,
   "id": "cc2594ee-60f2-4847-80d7-1b193b2991bc",
   "metadata": {},
   "outputs": [],
   "source": [
    "\n",
    "def get_user_input():\n",
    "    type_ = int(input(\"Enter transaction type (encoded as an integer starting from 1, e.g., 1 for CASH_OUT, 2 for PAYMENT): \"))\n",
    "    amount = float(input(\"Enter transaction amount: \"))\n",
    "    oldbalanceOrg = float(input(\"Enter old balance before the transaction: \"))\n",
    "    newbalanceOrig = float(input(\"Enter new balance after the transaction: \"))\n",
    "    \n",
    "    # Create a dictionary for input data\n",
    "    input_data = {\n",
    "        'type': type_,\n",
    "        'amount': amount,\n",
    "        'oldbalanceOrg': oldbalanceOrg,\n",
    "        'newbalanceOrig': newbalanceOrig\n",
    "    }\n",
    "    \n",
    "    return input_data\n",
    "\n",
    "# Collect user input\n",
    "user_input = get_user_input()\n",
    "\n",
    "# Make prediction\n",
    "prediction = predict_fraud(rf_model, user_input)\n",
    "print(f'Prediction: {\"Transaction is Fraud\" if prediction == 1 else \"Transaction is Not Fraud\"}')\n"
   ]
  },
  {
   "cell_type": "code",
   "execution_count": null,
   "id": "56b5398a-929d-4a54-b51a-f16412730311",
   "metadata": {},
   "outputs": [],
   "source": []
  }
 ],
 "metadata": {
  "kernelspec": {
   "display_name": "Python 3 (ipykernel)",
   "language": "python",
   "name": "python3"
  },
  "language_info": {
   "codemirror_mode": {
    "name": "ipython",
    "version": 3
   },
   "file_extension": ".py",
   "mimetype": "text/x-python",
   "name": "python",
   "nbconvert_exporter": "python",
   "pygments_lexer": "ipython3",
   "version": "3.10.0"
  }
 },
 "nbformat": 4,
 "nbformat_minor": 5
}
